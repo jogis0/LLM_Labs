{
 "cells": [
  {
   "cell_type": "code",
   "execution_count": 20,
   "id": "initial_id",
   "metadata": {
    "collapsed": true,
    "ExecuteTime": {
     "end_time": "2025-03-19T18:02:11.947845Z",
     "start_time": "2025-03-19T18:02:11.923845Z"
    }
   },
   "outputs": [],
   "source": [
    "from openai import OpenAI\n",
    "import matplotlib.pyplot as plt\n",
    "from io import StringIO\n",
    "import pandas as pd\n",
    "import re\n",
    "\n",
    "# Create an OpenAI client with your deepinfra token and endpoint\n",
    "openai = OpenAI(\n",
    "    api_key=\"OfGI4S423AQ3XqY80Gm2SPWsb3aVKoZ9\",\n",
    "    base_url=\"https://api.deepinfra.com/v1/openai\",\n",
    ")"
   ]
  },
  {
   "cell_type": "code",
   "outputs": [],
   "source": [
    "#1 uzduotis - text summarization\n",
    "def read_article_from_file():\n",
    "    try:\n",
    "        with open(\"text.txt\", 'r', encoding='utf-8') as file:\n",
    "            return file.read()\n",
    "    except Exception as e:\n",
    "        print(f\"Exception: {e}\")\n",
    "\n",
    "request_message = \"Summarize this article in 5 sentences, return only the summary: \\n\" + read_article_from_file()"
   ],
   "metadata": {
    "collapsed": false,
    "ExecuteTime": {
     "end_time": "2025-03-18T18:39:58.861963Z",
     "start_time": "2025-03-18T18:39:58.856964Z"
    }
   },
   "id": "88502595cef2d952",
   "execution_count": 2
  },
  {
   "cell_type": "code",
   "outputs": [],
   "source": [
    "#2 uzduotis - text generation\n",
    "request_message = \"Write an 8 line poem about rocks\""
   ],
   "metadata": {
    "collapsed": false,
    "ExecuteTime": {
     "end_time": "2025-03-18T19:29:27.676176Z",
     "start_time": "2025-03-18T19:29:27.666174Z"
    }
   },
   "id": "7867af9771876363",
   "execution_count": 13
  },
  {
   "cell_type": "code",
   "outputs": [],
   "source": [
    "#3 uzduotis - question answering\n",
    "request_message = (\"Answer these 4 questions for me: \\n\" + \n",
    "                   \"What ASP.NET object is used to get information about the web servers ?\\n\" +\n",
    "                   \"What method(s) must be used with the Application object to ensure that only one process accesses a variable at a time ?\\n\" + #Three\n",
    "                   \"What HTML element is the asp:Label control rendered as when the target is Internet Explorer ?\\n\" +\n",
    "                   \"Can two different .net programming languages be mixed in a single ASPX file ?\\n\")"
   ],
   "metadata": {
    "collapsed": false,
    "ExecuteTime": {
     "end_time": "2025-03-19T17:31:01.317035Z",
     "start_time": "2025-03-19T17:31:01.299045Z"
    }
   },
   "id": "22ecef13713d72d4",
   "execution_count": 12
  },
  {
   "cell_type": "code",
   "outputs": [],
   "source": [
    "#4 uzduotis - data generation\n",
    "request_message = \"Generate data points of an artificial stock price chart for 30 days (30 data points). The price must have 2 numbers from the decimal point. You must return only the Y value in CSV format without extra words.\""
   ],
   "metadata": {
    "collapsed": false,
    "ExecuteTime": {
     "end_time": "2025-03-19T15:26:13.280503Z",
     "start_time": "2025-03-19T15:26:13.267883Z"
    }
   },
   "id": "b689546735fa4bcc",
   "execution_count": 11
  },
  {
   "cell_type": "code",
   "outputs": [],
   "source": [
    "#5 uzduotis - code generation\n",
    "request_message = \"\"\"You are given a binary array nums.\n",
    "\n",
    "You can do the following operation on the array any number of times (possibly zero):\n",
    "\n",
    "Choose any 3 consecutive elements from the array and flip all of them.\n",
    "Flipping an element means changing its value from 0 to 1, and from 1 to 0.\n",
    "\n",
    "Return the minimum number of operations required to make all elements in nums equal to 1. If it is impossible, return -1.\n",
    "\n",
    "(Here is a code snippet that you have to finish)\n",
    "public class Solution {\n",
    "    public int MinOperations(int[] nums) {\n",
    "        \n",
    "    }\n",
    "}\n",
    "\n",
    "Example 1:\n",
    "\n",
    "Input: nums = [0,1,1,1,0,0]\n",
    "\n",
    "Output: 3\n",
    "\n",
    "Explanation:\n",
    "We can do the following operations:\n",
    "\n",
    "Choose the elements at indices 0, 1 and 2. The resulting array is nums = [1,0,0,1,0,0].\n",
    "Choose the elements at indices 1, 2 and 3. The resulting array is nums = [1,1,1,0,0,0].\n",
    "Choose the elements at indices 3, 4 and 5. The resulting array is nums = [1,1,1,1,1,1].\n",
    "Example 2:\n",
    "\n",
    "Input: nums = [0,1,1,1]\n",
    "\n",
    "Output: -1\n",
    "\n",
    "Explanation:\n",
    "It is impossible to make all elements equal to 1.\n",
    "\n",
    " \n",
    "\n",
    "Constraints:\n",
    "\n",
    "3 <= nums.length <= 105\n",
    "0 <= nums[i] <= 1\"\"\""
   ],
   "metadata": {
    "collapsed": false,
    "ExecuteTime": {
     "end_time": "2025-03-19T18:02:16.383746Z",
     "start_time": "2025-03-19T18:02:16.367385Z"
    }
   },
   "id": "937c429f94ecd191",
   "execution_count": 21
  },
  {
   "cell_type": "markdown",
   "source": [
    "# LLM Modeliai"
   ],
   "metadata": {
    "collapsed": false
   },
   "id": "fccfe46aa4aeb2a7"
  },
  {
   "cell_type": "code",
   "outputs": [
    {
     "name": "stdout",
     "output_type": "stream",
     "text": [
      "<think>\n",
      "Okay, let's tackle these four ASP.NET questions one by one. I need to make sure I get each answer right. Let me start with the first one.\n",
      "\n",
      "1. **What ASP.NET object is used to get information about the web servers?**\n",
      "\n",
      "Hmm, ASP.NET has several intrinsic objects like Request, Response, Session, Application, Server, etc. The question is about getting server information. The Server object comes to mind because it provides methods and properties related to the server. For example, Server.MachineName gives the server's name. But wait, maybe there's another object. The HttpServerUtility class is the Server object. Also, sometimes the Request object can give server variables, but the primary one for server info is probably the Server object. So I think the answer is the Server object.\n",
      "\n",
      "2. **What method(s) must be used with the Application object to ensure that only one process accesses a variable at a time?**\n",
      "\n",
      "The Application object is used for application-wide state. Since it's shared across all users, you need to handle concurrency. The methods for locking and unlocking. I remember that Application.Lock() and Application.UnLock() are used. When you Lock, it prevents others from modifying the application variables until you Unlock. So the answer should be Lock and UnLock methods.\n",
      "\n",
      "3. **What HTML element is the asp:Label control rendered as when the target is Internet Explorer?**\n",
      "\n",
      "The asp:Label is a server control. By default, if you don't specify an AssociatedControlID, it renders as a <span> element. If it's associated with a control (like a textbox for a label), it uses a <label> tag. But the question specifies Internet Explorer, but I don't think the browser affects the rendering here. The asp:Label typically becomes a <span> unless AssociatedControlID is set. So the answer is a <span> element.\n",
      "\n",
      "4. **Can two different .NET programming languages be mixed in a single ASPX file?**\n",
      "\n",
      "ASP.NET allows code-behind files in different languages, but within a single ASPX file (the markup), the inline code (if using inline scripting) has to be in the same language as specified in the Page directive. For example, if the page is in C# (<%@ Page Language=\"C#\" %>), you can't have VB.NET code in the same file. However, you can have different languages in separate files within the same project. But in a single ASPX file, no, you can't mix languages. So the answer is No.\n",
      "</think>\n",
      "\n",
      "**1. What ASP.NET object is used to get information about the web servers?**  \n",
      "The **`Server`** object (`HttpServerUtility`) is used to retrieve information about the web server, such as `Server.MachineName` for the server's hostname.\n",
      "\n",
      "---\n",
      "\n",
      "**2. What method(s) must be used with the Application object to ensure that only one process accesses a variable at a time?**  \n",
      "Use the **`Application.Lock()`** method to restrict access and **`Application.UnLock()`** to release the lock, ensuring thread-safe modification of application-state variables.\n",
      "\n",
      "---\n",
      "\n",
      "**3. What HTML element is the asp:Label control rendered as when the target is Internet Explorer?**  \n",
      "The `asp:Label` control is rendered as a **`<span>`** element by default (unless it uses `AssociatedControlID`, which renders a `<label>`). Browser type (e.g., IE) does not affect this behavior.\n",
      "\n",
      "---\n",
      "\n",
      "**4. Can two different .NET programming languages be mixed in a single ASPX file?**  \n",
      "**No.** A single ASPX file must use one language (e.g., C# or VB.NET) as specified in the `<%@ Page Language=\"...\" %>` directive. Mixing languages in the same file is not allowed, though different files in a project can use different languages.\n"
     ]
    }
   ],
   "source": [
    "#1. DeepSeek R1\n",
    "chat_completion = openai.chat.completions.create(\n",
    "    model=\"deepseek-ai/DeepSeek-R1-Turbo\",\n",
    "    messages=[{\"role\": \"user\", \"content\": request_message}],\n",
    ")\n",
    "\n",
    "print(chat_completion.choices[0].message.content)"
   ],
   "metadata": {
    "collapsed": false,
    "ExecuteTime": {
     "end_time": "2025-03-19T17:31:27.822756Z",
     "start_time": "2025-03-19T17:31:05.023773Z"
    }
   },
   "id": "9a8df71981c11ead",
   "execution_count": 13
  },
  {
   "cell_type": "code",
   "outputs": [
    {
     "name": "stdout",
     "output_type": "stream",
     "text": [
      "Okay, I need to answer four questions about ASP.NET. Let's go through them one by one.\n",
      "\n",
      "First question: What ASP.NET object is used to get information about the web servers?\n",
      "\n",
      "Hmm, I remember that in ASP.NET, there are several built-in objects like Request, Response, Server, Application, Session, etc. The question is about getting information about the web server itself. The Server object might be the one here. Wait, the Request object gets client info, right? The Server object provides methods for server-related operations. There's a property like MachineName, maybe? Or perhaps the HttpWorkerRequest? No, I think the Server object can give server-side information. Let me recall, Server.MapPath is a common method. But does it provide info about the server like its name, version, etc.? Alternatively, maybe the HttpContext object? Or perhaps the System.Web.HttpRuntime Cache? Wait, maybe the correct answer is the Server object. Let me check mentally examples. For server variables, like server name, you might use Request.ServerVariables but that's client-side accessing server variables. Wait, but the question is about the ASP.NET object to get info about the web servers. So maybe the Server object is the answer. Or is it the HTTPContext.Current? Hmm. I might have to confirm, but tentatively I think the Server object is the correct one here.\n",
      "\n",
      "Second question: What method(s) must be used with the Application object to ensure that only one process accesses a variable at a time?\n",
      "\n",
      "The Application object is used for storing global variables that are accessible to all users. Since it's global and potentially accessed by multiple threads, you need thread synchronization. The Application object provides methods like Lock and Unlock. So you need to call Application.Lock() before accessing a variable and Application.Unlock() after. Alternatively, using a mutex or other threading constructs could be an approach, but the question specifies \"with the Application object\", so probably the correct answer is using the Lock and Unlock methods. Additionally, sometimes you can use the Get method with a delegate for atomic operations, but the direct answer here is Lock and Unlock.\n",
      "\n",
      "Third question: What HTML element is the asp:Label control rendered as when the target is Internet Explorer ?\n",
      "\n",
      "ASP.NET controls are rendered as HTML elements. The asp:Label control typically renders as a <span> element. Because it's inline, not a block element. For example, labels in ASP.NET tend to be span by default. But maybe in older versions or specific scenarios it might be a div? Wait, no, I'm pretty sure it's a span. Even when targeting Internet Explorer, the Label control's rendering should stay as span unless there's a specific target adaptation, but generally, the Label is span. Unless for compatibility reasons, maybe IE uses a different tag? I don't recall such a case. So the answer is span.\n",
      "\n",
      "Fourth question: Can two different .NET programming languages be mixed in a single ASPX file ?\n",
      "\n",
      "ASPX files use code-behind models typically, where the markup is in .aspx and the code is in a separate code-behind file (like .cs or .vb). But can you have code blocks in the ASPX using different languages? Alternatively, if you're using inline code with <% ... %> blocks, the language is determined by the @Page directive's Language attribute. For example, you can't mix C# and VB.NET code in the same code block because the directive specifies one. However, in a single file, if you have partial classes or multiple code-behind files, they can be in different languages, but they need to compile together. Wait, but according to .NET's Common Language Runtime compatibility, different languages can interoperate, but in the same ASPX file, the code snippets must be in the same language as specified in the page directive. So mixing two different languages in the same .aspx file's code blocks is not allowed. The code-behind could be in different languages, but the code in the aspx itself must be one language. Therefore, the answer would be no, you can't mix two different languages in a single ASPX file's code declarations. Although the code-behind can be in different languages if set up as partial classes, but in the same file's inline code, you can't. \n",
      "\n",
      "Wait another thought: ASP.NET supports embedding code in the page using code blocks, but the language is fixed per page. So if the page is set to C#, all the <% %> code must be C#. Hence the answer is no, you can't mix. So final answers based on this thinking.\n",
      "</think>\n",
      "\n",
      "**1. What ASP.NET object is used to get information about the web servers?**  \n",
      "The **`Server` object** is used to access server-related information, such as the server's machine name, execute server-side methods like `MapPath()`, and handle server-exclusive operations. For example, `HttpContext.Current.Server` provides server-specific functionality.  \n",
      "\n",
      "---\n",
      "\n",
      "**2. What method(s) must be used with the Application object to ensure that only one process accesses a variable at a time?**  \n",
      "The `Lock()` and `Unlock()` methods of the **`Application` object** must be used to ensure thread safety. Wrap accesses to shared variables with:  \n",
      "```csharp\n",
      "Application.Lock();  \n",
      "// Access or modify the variable  \n",
      "Application.Unlock();  \n",
      "```  \n",
      "These methods prevent concurrent writes to the application state by locking the object exclusively.  \n",
      "\n",
      "---\n",
      "\n",
      "**3. What HTML element is the asp:Label control rendered as when the target is Internet Explorer?**  \n",
      "The **`<span>`** HTML element. The `asp:Label` control is always rendered as a `<span>` by default, regardless of the browser (including Internet Explorer), because it represents an inline element.  \n",
      "\n",
      "---\n",
      "\n",
      "**4. Can two different .NET programming languages be mixed in a single ASPX file?**  \n",
      "**No**, an ASPX file’s code must use a single programming language, specified in the `@Page` directive (e.g., `Language=\"C#\"` or `Language=\"VB\"`). Inline code blocks (`<% %>`) and code-behind files must all adhere to the same language. However, different languages can interact in the same project through compiled assemblies (e.g., a VB.NET class referencing a C# class), but not within the same ASPX file.  \n",
      "\n",
      "--- \n",
      "\n",
      "Let me know if you need further clarification!\n"
     ]
    }
   ],
   "source": [
    "#2. QwQ\n",
    "chat_completion = openai.chat.completions.create(\n",
    "    model=\"Qwen/QwQ-32B\",\n",
    "    messages=[{\"role\": \"user\", \"content\": request_message}],\n",
    ")\n",
    "\n",
    "print(chat_completion.choices[0].message.content)"
   ],
   "metadata": {
    "collapsed": false,
    "ExecuteTime": {
     "end_time": "2025-03-19T17:31:57.373779Z",
     "start_time": "2025-03-19T17:31:27.824757Z"
    }
   },
   "id": "4d8c992da654496f",
   "execution_count": 14
  },
  {
   "cell_type": "code",
   "outputs": [
    {
     "name": "stdout",
     "output_type": "stream",
     "text": [
      "Here are the answers to your questions:\n",
      "\n",
      "1. **What ASP.NET object is used to get information about the web servers?**\n",
      "   The `Server` object in ASP.NET is used to get information about the web server and to perform certain tasks.\n",
      "\n",
      "2. **What method(s) must be used with the Application object to ensure that only one process accesses a variable at a time?**\n",
      "   To ensure that only one process accesses a variable at a time when using the `Application` object, you should use the `Lock` and `Unlock` methods. These methods are used to synchronize access to the application state, preventing concurrent access and modifications by multiple requests.\n",
      "\n",
      "3. **What HTML element is the asp:Label control rendered as when the target is Internet Explorer?**\n",
      "   The `asp:Label` control in ASP.NET is typically rendered as a `span` HTML element, regardless of the target browser, including Internet Explorer.\n",
      "\n",
      "4. **Can two different.NET programming languages be mixed in a single ASPX file?**\n",
      "   No, by default, ASP.NET requires that a single ASPX file (or more broadly, any single code file in a.NET project) uses a single programming language. However, you can have different parts of your ASP.NET project written in different languages if each part is in its own file or set of files. For example, you could have the code-behind files for some pages written in C# and others written in VB.NET, but not mixed within the same file.\n"
     ]
    }
   ],
   "source": [
    "#3. Llama 3.3\n",
    "chat_completion = openai.chat.completions.create(\n",
    "    model=\"meta-llama/Llama-3.3-70B-Instruct-Turbo\",\n",
    "    messages=[{\"role\": \"user\", \"content\": request_message}],\n",
    ")\n",
    "\n",
    "print(chat_completion.choices[0].message.content)"
   ],
   "metadata": {
    "collapsed": false,
    "ExecuteTime": {
     "end_time": "2025-03-19T17:32:03.929156Z",
     "start_time": "2025-03-19T17:31:57.374779Z"
    }
   },
   "id": "1df9716d896d15f2",
   "execution_count": 15
  },
  {
   "cell_type": "code",
   "outputs": [
    {
     "name": "stdout",
     "output_type": "stream",
     "text": [
      "Certainly! Here are the answers to your questions:\n",
      "\n",
      "1. **What ASP.NET object is used to get information about the web servers?**\n",
      "   - The `HttpServerUtility` object is used to get information about the web server. It is accessible via the `Server` property of `HttpContext`.\n",
      "\n",
      "2. **What method(s) must be used with the Application object to ensure that only one process accesses a variable at a time?**\n",
      "   - To ensure thread safety when accessing shared data in the `Application` object, you should use the `Application.Lock()` and `Application.Unlock()` methods. This prevents concurrent access by different processes.\n",
      "\n",
      "3. **What HTML element is the `asp:Label` control rendered as when the target is Internet Explorer?**\n",
      "   - The `asp:Label` control is rendered as a `<span>` element. This applies regardless of the browser, as ASP.NET controls are generally browser-agnostic.\n",
      "\n",
      "4. **Can two different .NET programming languages be mixed in a single ASPX file?**\n",
      "   - Yes, you can mix different .NET programming languages in a single ASPX file by using the `Page` directive's `CodeFile` and `CSCodePage` or `VBCodePage` attributes, along with inline code blocks. For example, you can use C# and VB.NET together by specifying different code-behind files or using inline code with specified languages. However, be careful with mixing inline code, as it can lead to maintenance challenges.\n"
     ]
    }
   ],
   "source": [
    "#4. phi-4\n",
    "chat_completion = openai.chat.completions.create(\n",
    "    model=\"microsoft/phi-4\",\n",
    "    messages=[{\"role\": \"user\", \"content\": request_message}],\n",
    ")\n",
    "\n",
    "print(chat_completion.choices[0].message.content)"
   ],
   "metadata": {
    "collapsed": false,
    "ExecuteTime": {
     "end_time": "2025-03-19T17:32:15.237676Z",
     "start_time": "2025-03-19T17:32:03.931157Z"
    }
   },
   "id": "84e92205257cd0e0",
   "execution_count": 16
  },
  {
   "cell_type": "code",
   "outputs": [
    {
     "name": "stdout",
     "output_type": "stream",
     "text": [
      "To solve this problem, we need to determine the minimum number of operations required to make all elements in the given binary array `nums` equal to 1. The operation allows us to flip any three consecutive elements. Here's a step-by-step approach to solve the problem:\n",
      "\n",
      "1. **Initial Check**:\n",
      "   - If the length of `nums` is less than 3, we cannot perform any operations since the operation requires at least three elements. If length is 3 and all elements are 1's, no operation is needed. If any of the elements are 0, it is impossible to make all elements 1\n",
      "   - If the entire array is already all 1's, the answer is 0.\n",
      "\n",
      "2. **Greedily Flip Consecutive 0's**:\n",
      "   - Traverse the array and count the number of 0s consecutively. These  are to be flipped.\n",
      "   - If we encounter a consecutive block of 3 or more 0s, we can flip them in one operation.\n",
      "   - Profiling the number of zeros helps us reducing the problem.\n",
      "\n",
      "3. **Remaining Elements**:\n",
      " - If at the end there are fewer than 3 0's and it is impossible to have a sub-array of 3 consecutive 0's we won't be able to completely convert to 1.\n",
      "\n",
      "Here is the implementation of the above logic:\n",
      "\n",
      "```java\n",
      "public class Solution {\n",
      "    public int MinOperations(int[] nums) {\n",
      "        int n = nums.length;\n",
      "        int operations = 0;\n",
      "        int zeros = 0;\n",
      "\n",
      "        for (int i = 0; i < n; i++) {\n",
      "            if (nums[i] == 0) {\n",
      "                zeros++;\n",
      "            } else if (zeros % 3 == 0 && zeros >= 0) {\n",
      "                operations++;\n",
      "                zeros = 0;\n",
      "            }\n",
      "            else if (zeros == 3) {\n",
      "                operations++;\n",
      "                zeros = 0;\n",
      "            }\n",
      "        }\n",
      "\n",
      "        if (zeros % 3 == 0 && zeros < 3) {\n",
      "            return operations + (zeros == 0 ? 0 : 1);\n",
      "        }\n",
      "\n",
      "        return zeros == 0 ? operations : -1;\n",
      "    }\n",
      "}\n",
      "```\n",
      "\n",
      "### Explanation:\n",
      "- We traverse the array and count the number of consecutive 0s.\n",
      "- If we encounter a block of exactly 3 0s, we can flip them in one operation and reset the count.\n",
      "- After flipping, additional 0s will interfere, if we have lesser AND non-flippable selections, it prevents from making all elements to 1.\n",
      "- If remaining zeroes are not multiples of 0 then we couldn't transform an array to all 1s.\n",
      "\n",
      "This approach ensures that we count the minimum number of operations required to make all elements in the array equal to 1, or return -1 if it is impossible.\n"
     ]
    }
   ],
   "source": [
    "#5. Mistral\n",
    "chat_completion = openai.chat.completions.create(\n",
    "    model=\"mistralai/Mistral-Small-24B-Instruct-2501\",\n",
    "    messages=[{\"role\": \"user\", \"content\": request_message}],\n",
    ")\n",
    "\n",
    "print(chat_completion.choices[0].message.content)"
   ],
   "metadata": {
    "collapsed": false,
    "ExecuteTime": {
     "end_time": "2025-03-19T18:02:31.611964Z",
     "start_time": "2025-03-19T18:02:20.222142Z"
    }
   },
   "id": "63516bcecc91cde7",
   "execution_count": 22
  },
  {
   "cell_type": "code",
   "outputs": [
    {
     "data": {
      "text/plain": "<Figure size 1000x500 with 1 Axes>",
      "image/png": "[encoded data removed]"
     },
     "metadata": {},
     "output_type": "display_data"
    }
   ],
   "source": [
    "#4 uzduotis - data generation (charts)\n",
    "def remove_think_tags(text: str) -> str:\n",
    "    if text.startswith(\"<\"):\n",
    "        return re.sub(r'<think>.*?</think>', '', text, flags=re.DOTALL).strip()\n",
    "    return text\n",
    "\n",
    "text = chat_completion.choices[0].message.content\n",
    "cleaned_text = remove_think_tags(text)\n",
    "\n",
    "values = list(map(float, cleaned_text.split(',')))\n",
    "plt.figure(figsize=(10, 5))\n",
    "plt.plot(values, marker='o', linestyle='-', color='b', label='Stock Prices')\n",
    "plt.xlabel('Day')\n",
    "plt.ylabel('Price')\n",
    "plt.title('Stock Price')\n",
    "plt.legend()\n",
    "plt.grid(True)\n",
    "plt.show()"
   ],
   "metadata": {
    "collapsed": false,
    "ExecuteTime": {
     "end_time": "2025-03-19T15:43:15.793035Z",
     "start_time": "2025-03-19T15:43:15.679047Z"
    }
   },
   "id": "d20a3681cc2ea77e",
   "execution_count": 29
  },
  {
   "cell_type": "code",
   "outputs": [],
   "source": [],
   "metadata": {
    "collapsed": false
   },
   "id": "7eda261294e065a"
  }
 ],
 "metadata": {
  "kernelspec": {
   "display_name": "Python 3",
   "language": "python",
   "name": "python3"
  },
  "language_info": {
   "codemirror_mode": {
    "name": "ipython",
    "version": 2
   },
   "file_extension": ".py",
   "mimetype": "text/x-python",
   "name": "python",
   "nbconvert_exporter": "python",
   "pygments_lexer": "ipython2",
   "version": "2.7.6"
  }
 },
 "nbformat": 4,
 "nbformat_minor": 5
}
